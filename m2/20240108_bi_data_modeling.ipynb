{
 "cells": [
  {
   "cell_type": "markdown",
   "id": "ac5c7f15",
   "metadata": {
    "slideshow": {
     "slide_type": "slide"
    }
   },
   "source": [
    "# Data Modeling Concepts\n",
    "\n",
    "![Image](./img/data_modeling.JPG)"
   ]
  },
  {
   "cell_type": "markdown",
   "id": "d284b158",
   "metadata": {},
   "source": [
    "---\n",
    "\n",
    "## Logical vs. Physical Model\n",
    "\n",
    "- __Logical Model:__ After obtaining the business requirements, the logical model describes the data to a great extent, but it does not take part in implementing the database.\n",
    "\n",
    "- __Physical Model:__ A physical data model is a model that helps to implement the database.\n",
    "\n",
    "\n",
    "![Image](./img/logical_physical.JPG)"
   ]
  },
  {
   "cell_type": "markdown",
   "id": "64a53766",
   "metadata": {
    "slideshow": {
     "slide_type": "slide"
    }
   },
   "source": [
    "---\n",
    "\n",
    "## Multi-Hop Architecture\n",
    "\n",
    "Multi-hop architecture uses tables that correspond to different quality levels in the data engineering pipeline, progressively adding structure to the data.\n",
    "\n",
    "![Image](./img/medallion.jpg)"
   ]
  },
  {
   "cell_type": "markdown",
   "id": "a8289e84",
   "metadata": {
    "slideshow": {
     "slide_type": "slide"
    }
   },
   "source": [
    "---\n",
    "\n",
    "## Data Warehouse\n",
    "\n",
    "Data warehouse are a group of relational databases accesible across an organization. There are two main types:\n",
    "\n",
    "- OLAP (On-Line Analytical Processing)\n",
    "\n",
    "- OLTP (On-Line Transaction Processing)\n",
    "\n",
    "\n",
    "![Image](./img/olap_oltp.png)\n"
   ]
  },
  {
   "cell_type": "markdown",
   "id": "e0975fba",
   "metadata": {},
   "source": [
    "---\n",
    "\n",
    "## Star Schema\n",
    "\n",
    "The star schema consists of one or more __fact tables__ referencing any number of __dimension tables__.\n",
    "\n",
    "- Dimension tables support filtering and grouping\n",
    "\n",
    "- Fact tables support aggregation\n",
    "\n",
    "---\n",
    "\n",
    "![Image](./img/star_models/Sales.png)\n"
   ]
  },
  {
   "cell_type": "code",
   "execution_count": null,
   "id": "af23c268",
   "metadata": {},
   "outputs": [],
   "source": [
    "# imports and config\n",
    "\n",
    "import pandas as pd\n",
    "pd.options.display.float_format = '{:.2f}'.format"
   ]
  },
  {
   "cell_type": "code",
   "execution_count": null,
   "id": "f6e222b9",
   "metadata": {},
   "outputs": [],
   "source": [
    "# Fact table\n",
    "\n",
    "fact_table = pd.read_csv('./datasets/modeling/Sales_short.csv')\n",
    "#fact_table = pd.read_csv('../../../data/Sales.csv')\n",
    "fact_table.info()"
   ]
  },
  {
   "cell_type": "code",
   "execution_count": null,
   "id": "8be8433b",
   "metadata": {},
   "outputs": [],
   "source": [
    "fact_table.head()"
   ]
  },
  {
   "cell_type": "code",
   "execution_count": null,
   "id": "b4590cca",
   "metadata": {},
   "outputs": [],
   "source": [
    "# Memory usage function (MB)\n",
    "\n",
    "def memory_usage(df_list):\n",
    "    return f'{sum([df.memory_usage().sum() / 1000000 for df in df_list])} megabytes' "
   ]
  },
  {
   "cell_type": "code",
   "execution_count": null,
   "id": "44a4b8bd",
   "metadata": {},
   "outputs": [],
   "source": [
    "memory_usage([fact_table])"
   ]
  },
  {
   "cell_type": "code",
   "execution_count": null,
   "id": "4b00d210",
   "metadata": {
    "scrolled": true
   },
   "outputs": [],
   "source": [
    "# Dimension table\n",
    "\n",
    "dimension_table = pd.read_csv('./datasets/modeling/Channel.csv')\n",
    "dimension_table.columns = ['channelKey', 'ChannelName']\n",
    "dimension_table.info()"
   ]
  },
  {
   "cell_type": "code",
   "execution_count": null,
   "id": "1caebe80",
   "metadata": {},
   "outputs": [],
   "source": [
    "dimension_table"
   ]
  },
  {
   "cell_type": "code",
   "execution_count": null,
   "id": "ac211b66",
   "metadata": {},
   "outputs": [],
   "source": [
    "memory_usage([dimension_table])"
   ]
  },
  {
   "cell_type": "code",
   "execution_count": null,
   "id": "b998f250",
   "metadata": {},
   "outputs": [],
   "source": [
    "# Many dimensions\n",
    "\n",
    "channel_table = pd.read_csv('./datasets/modeling/Channel.csv')\n",
    "channel_table.columns = ['channelKey', 'ChannelName']\n",
    "store_table = pd.read_csv('./datasets/modeling/Stores.csv')\n",
    "product_table = pd.read_csv('./datasets/modeling/Product.csv')\n",
    "promotion_table = pd.read_csv('./datasets/modeling/Promotion.csv')"
   ]
  },
  {
   "cell_type": "code",
   "execution_count": null,
   "id": "f22e8f7f",
   "metadata": {},
   "outputs": [],
   "source": [
    "channel_table"
   ]
  },
  {
   "cell_type": "code",
   "execution_count": null,
   "id": "7a4a174d",
   "metadata": {},
   "outputs": [],
   "source": [
    "store_table"
   ]
  },
  {
   "cell_type": "code",
   "execution_count": null,
   "id": "898bdf89",
   "metadata": {},
   "outputs": [],
   "source": [
    "product_table"
   ]
  },
  {
   "cell_type": "code",
   "execution_count": null,
   "id": "a114564d",
   "metadata": {},
   "outputs": [],
   "source": [
    "promotion_table"
   ]
  },
  {
   "cell_type": "code",
   "execution_count": null,
   "id": "60fa0d82",
   "metadata": {},
   "outputs": [],
   "source": [
    "normalized_model = memory_usage([fact_table,\n",
    "                                 channel_table,\n",
    "                                 store_table,\n",
    "                                 product_table,\n",
    "                                 promotion_table])\n",
    "normalized_model"
   ]
  },
  {
   "cell_type": "code",
   "execution_count": null,
   "id": "616460fd",
   "metadata": {},
   "outputs": [],
   "source": [
    "%%time\n",
    "\n",
    "# Model denormalization\n",
    "\n",
    "denormalized_table = pd.merge(fact_table,channel_table).merge(store_table).merge(product_table).merge(promotion_table)\n",
    "denormalized_table.info()"
   ]
  },
  {
   "cell_type": "code",
   "execution_count": null,
   "id": "f3994d00",
   "metadata": {},
   "outputs": [],
   "source": [
    "denormalized_model = memory_usage([denormalized_table])\n",
    "denormalized_model"
   ]
  },
  {
   "cell_type": "code",
   "execution_count": null,
   "id": "ccb3e8f6",
   "metadata": {},
   "outputs": [],
   "source": [
    "ratio = round(float(denormalized_model.split()[0])/float(normalized_model.split()[0]), 1)\n",
    "f'The model size is multiplied by {ratio} in memory size'"
   ]
  },
  {
   "cell_type": "code",
   "execution_count": null,
   "id": "8b34863e",
   "metadata": {},
   "outputs": [],
   "source": [
    "# Table aggregation (summarization)\n",
    "\n",
    "fact_table.index = pd.to_datetime(fact_table['DateKey'], format='%Y-%m-%d %H:%M:%S')\n",
    "fact_table_agg = fact_table.groupby([fact_table.index.month, fact_table.index.year])[['TotalCost']].sum()\n",
    "#pd.set_option('display.float_format', lambda x: '%.3f' % x)\n",
    "fact_table_agg"
   ]
  },
  {
   "cell_type": "markdown",
   "id": "cf78ec27",
   "metadata": {},
   "source": [
    "---\n",
    "\n",
    "## Cardinality\n",
    "\n",
    "__Many to one (*:1):__ A many-to-one relationship is the most common, default type of relationship. It means the column in a given table can have more than one instance of a value, and the other related table, often know as the lookup table, has only one instance of a value.\n",
    "\n",
    "__One to one (1:1):__ In a one-to-one relationship, the column in one table has only one instance of a particular value, and the other related table has only one instance of a particular value.\n",
    "\n",
    "__One to many (1:*):__ In a one-to-many relationship, the column in one table has only one instance of a particular value, and the other related table can have more than one instance of a value.\n",
    "\n",
    "__Many to many (*:*):__ Many-to-many relationship between tables removes requirements for unique values in tables. It also removes previous workarounds, such as introducing new tables only to establish relationships."
   ]
  },
  {
   "cell_type": "markdown",
   "id": "510ec412",
   "metadata": {},
   "source": [
    "---\n",
    "\n",
    "### More examples!!!"
   ]
  },
  {
   "cell_type": "markdown",
   "id": "01d1a454",
   "metadata": {},
   "source": [
    "---\n",
    "\n",
    "#### Instagram-like app\n",
    "\n",
    "![Image](./img/star_models/Instagram.png)"
   ]
  },
  {
   "cell_type": "markdown",
   "id": "219ef61b",
   "metadata": {},
   "source": [
    "---\n",
    "\n",
    "#### Logistics\n",
    "\n",
    "![Image](./img/star_models/Logistics.png)"
   ]
  },
  {
   "cell_type": "markdown",
   "id": "9538e18d",
   "metadata": {},
   "source": [
    "---\n",
    "\n",
    "#### Formula 1\n",
    "\n",
    "![Image](./img/star_models/F1.png)"
   ]
  },
  {
   "cell_type": "markdown",
   "id": "8197341a",
   "metadata": {},
   "source": [
    "---\n",
    "\n",
    "#### Ecommerce\n",
    "\n",
    "![Image](./img/star_models/Ecommerce.png)"
   ]
  },
  {
   "cell_type": "markdown",
   "id": "c3412695",
   "metadata": {},
   "source": [
    "---\n",
    "\n",
    "#### ML Workflow\n",
    "\n",
    "![Image](./img/star_models/MLworkflow.png)"
   ]
  },
  {
   "cell_type": "markdown",
   "id": "2974e02b",
   "metadata": {},
   "source": [
    "---"
   ]
  }
 ],
 "metadata": {
  "kernelspec": {
   "display_name": "Python [conda env:.conda-ironhack]",
   "language": "python",
   "name": "conda-env-.conda-ironhack-py"
  },
  "language_info": {
   "codemirror_mode": {
    "name": "ipython",
    "version": 3
   },
   "file_extension": ".py",
   "mimetype": "text/x-python",
   "name": "python",
   "nbconvert_exporter": "python",
   "pygments_lexer": "ipython3",
   "version": "3.7.11"
  }
 },
 "nbformat": 4,
 "nbformat_minor": 5
}
